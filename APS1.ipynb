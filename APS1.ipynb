{
 "cells": [
  {
   "cell_type": "markdown",
   "metadata": {},
   "source": [
    "O objetivo escolhido foi trabalho decente e crescimento econômico (número 8), relevante pois promove melhores condições de trabalho, inclusão, e impacta diretamente a economia de um país. O indicador utilizado foi \"Unemployment, total (% of total labor force)(national estimate)\", que se relaciona com o objetivo por registrar a taxa de desemprego em um país."
   ]
  },
  {
   "cell_type": "code",
   "execution_count": null,
   "metadata": {},
   "outputs": [],
   "source": [
    "#figura1: comportamento do indicador no brasil"
   ]
  },
  {
   "cell_type": "code",
   "execution_count": null,
   "metadata": {},
   "outputs": [],
   "source": [
    "#figura2: comportamento do indicador num pais atrasado"
   ]
  },
  {
   "cell_type": "code",
   "execution_count": null,
   "metadata": {},
   "outputs": [],
   "source": [
    "#figura3: comportamento do indicador num pais avancado"
   ]
  }
 ],
 "metadata": {
  "kernelspec": {
   "display_name": "Python 3.10.2 64-bit",
   "language": "python",
   "name": "python3"
  },
  "language_info": {
   "name": "python",
   "version": "3.10.2"
  },
  "orig_nbformat": 4,
  "vscode": {
   "interpreter": {
    "hash": "e5d8c4730e4c3eae841293eccf2dd3fe40ecf8e4dc1b22f8858280b707d3ac24"
   }
  }
 },
 "nbformat": 4,
 "nbformat_minor": 2
}
