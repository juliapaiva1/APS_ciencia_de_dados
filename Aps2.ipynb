{
 "cells": [
  {
   "cell_type": "markdown",
   "metadata": {},
   "source": [
    "\n",
    "*Análise*\n",
    "\n",
    "O novo indicador, utilizado para comparação com o anterior, é \"Adolescents out of school (% of lower secondary school age)\". Cogitamos duas principais hipóteses que podem ligá-lo ao indicador anterior: a falta de instrução formal de um adolescente pode causar mais dificuldade para entrar no mercado de trabalho; por outro lado, alguns param seus estudos justamente para adentrar o mercado de trabalho mais cedo.\n",
    "\n",
    "Entretanto, levando em conta o gráfico e as taxas de correlação e covariância, essas hipóteses não se confirmam. Não há relação explícita entre os dois indicadores, o que é reforçado pelas baixas taxas de covariância e correlação para todos os países. Apesar de não anular totalmente as hipóteses iniciais, demonstra que elas não ocorrem de forma tão expressiva quanto imaginado."
   ]
  },
  {
   "cell_type": "code",
   "execution_count": 1,
   "metadata": {},
   "outputs": [
    {
     "data": {
      "text/plain": [
       "<Figure size 432x288 with 0 Axes>"
      ]
     },
     "metadata": {},
     "output_type": "display_data"
    },
    {
     "data": {
      "image/png": "[encoded data removed]",
      "text/plain": [
       "<Figure size 432x288 with 1 Axes>"
      ]
     },
     "metadata": {
      "needs_background": "light"
     },
     "output_type": "display_data"
    },
    {
     "name": "stdout",
     "output_type": "stream",
     "text": [
      "Covariância Brasil\n",
      "-0.13122594918423344\n",
      "Covariância Qatar\n",
      "0.4531463786682499\n",
      "Covariância AdS\n",
      "0.1091440400544534\n",
      "Correlação Brasil\n",
      "-0.03485446912035962\n",
      "Correlação Qatar\n",
      "0.11405506745318336\n",
      "Correlação AdS\n",
      "0.1495722778410477\n"
     ]
    }
   ],
   "source": [
    "# APS1\n",
    "\n",
    "import pandas as pd\n",
    "import numpy as np\n",
    "import matplotlib.pyplot as plt\n",
    "plt.style.use('default')\n",
    "import seaborn as sns\n",
    "\n",
    "# ----------------------------------- #\n",
    "\n",
    "df = pd.read_csv('csv/jobs.csv', sep=',', encoding='latin1', decimal='.')\n",
    "df = df.drop(labels=['Series Name', 'Series Code', 'Country Code'], axis=1)\n",
    "df = df.replace('(?<!\\.)\\.\\.(?!\\.)', -1, regex=True)\n",
    "\n",
    "df2 = pd.read_csv('csv/adolescent.csv', sep=',', encoding='latin1', decimal='.')\n",
    "df2 = df2.drop(labels=['Series Name', 'Series Code', 'Country Code'], axis=1)\n",
    "df2 = df2.replace('(?<!\\.)\\.\\.(?!\\.)', -1, regex=True)\n",
    "\n",
    "plt.style.use('default')\n",
    "plt.figure()\n",
    "fig, ax = plt.subplots()\n",
    "\n",
    "# ----------------------------------- #\n",
    "\n",
    "anosBrasil = df.iloc[27]\n",
    "anosTop = df.iloc[179]\n",
    "anosBottom = df.iloc[197]\n",
    "r = 0\n",
    "for areas in [anosBrasil, anosTop, anosBottom]:\n",
    "\n",
    "    anos = []\n",
    "    data = []\n",
    "    i=0\n",
    "    for ano in areas.index:\n",
    "        if i >= 2:\n",
    "            anos.append(int(float(ano[0:5])))\n",
    "            data.append(int(float(areas[ano])))\n",
    "        i+=1\n",
    "\n",
    "    if r == 0:\n",
    "        ax.plot(anos, data, 'b')\n",
    "    elif r == 1:\n",
    "        ax.plot(anos, data, 'b--')\n",
    "    else:\n",
    "        ax.plot(anos, data, 'b.')\n",
    "    r+=1\n",
    "\n",
    "# ----------------------------------- #\n",
    "\n",
    "anosBrasil = df2.iloc[27]\n",
    "anosTop = df2.iloc[179]\n",
    "anosBottom = df2.iloc[197]\n",
    "r=0\n",
    "for areas in [anosBrasil, anosTop, anosBottom]:\n",
    "\n",
    "    anos = []\n",
    "    data = []\n",
    "    i=0\n",
    "    for ano in areas.index:\n",
    "        if i >= 2:\n",
    "            anos.append(int(float(ano[0:5])))\n",
    "            data.append(int(float(areas[ano])))\n",
    "        i+=1\n",
    "\n",
    "\n",
    "    if r == 0:\n",
    "        ax.plot(anos, data, 'r')\n",
    "    elif r == 1:\n",
    "        ax.plot(anos, data, 'r--')\n",
    "    else:\n",
    "        ax.plot(anos, data, 'r.')\n",
    "    r+=1\n",
    "\n",
    "# ----------------------------------- #\n",
    "\n",
    "ax.legend([\"Trab. Brasil\", \"Trab. Qatar\", 'Trab. AdS', \"Ado. Brasil\", \"Ado. Qatar\", 'Ado. AdS'])\n",
    "plt.xticks(range(2004, 2017, 2))\n",
    "plt.yticks(range(0, 100, 10))\n",
    "plt.title('Porcentagem de trabalhadores comparados a adolescentes fora da escola')\n",
    "plt.xlabel('Anos')\n",
    "plt.ylabel('Porcentagem (%)')\n",
    "plt.show()\n",
    "\n",
    "# ----------------------------------- #\n",
    "\n",
    "def calcula_covariancia(df_trabalho, df_adol):\n",
    "    lista_trabalho = list(df_trabalho)\n",
    "    lista_adol = list(df_adol)\n",
    "    lista_float_trab = []\n",
    "    lista_float_adol = []\n",
    "    del lista_trabalho[0]\n",
    "    del lista_adol[0]\n",
    "    for str in lista_trabalho:\n",
    "        lista_float_trab.append(float(str))\n",
    "    for str in lista_adol:\n",
    "        lista_float_adol.append(float(str))\n",
    "    serie_trab = pd.Series(lista_float_trab)\n",
    "    serie_adol = pd.Series(lista_float_adol)\n",
    "    covariancia = serie_trab.cov(serie_adol)\n",
    "    print(covariancia)\n",
    "\n",
    "print('Covariância Brasil')\n",
    "calcula_covariancia(df.iloc[27], df2.iloc[27])\n",
    "print('Covariância Qatar')\n",
    "calcula_covariancia(df.iloc[179], df2.iloc[179])\n",
    "print('Covariância AdS')\n",
    "calcula_covariancia(df.iloc[197], df2.iloc[197])\n",
    "\n",
    "# ----------------------------------- #\n",
    "\n",
    "def calcula_correlacao(df_trabalho, df_adol):\n",
    "    lista_trabalho = list(df_trabalho)\n",
    "    lista_adol = list(df_adol)\n",
    "    lista_float_trab = []\n",
    "    lista_float_adol = []\n",
    "    del lista_trabalho[0]\n",
    "    del lista_adol[0]\n",
    "    for str in lista_trabalho:\n",
    "        lista_float_trab.append(float(str))\n",
    "    for str in lista_adol:\n",
    "        lista_float_adol.append(float(str))\n",
    "    serie_trab = pd.Series(lista_float_trab)\n",
    "    serie_adol = pd.Series(lista_float_adol)\n",
    "    covariancia = serie_trab.corr(serie_adol)\n",
    "    print(covariancia)\n",
    "\n",
    "print('Correlação Brasil')\n",
    "calcula_correlacao(df.iloc[27], df2.iloc[27])\n",
    "print('Correlação Qatar')\n",
    "calcula_correlacao(df.iloc[179], df2.iloc[179])\n",
    "print('Correlação AdS')\n",
    "calcula_correlacao(df.iloc[197], df2.iloc[197])\n"
   ]
  }
 ],
 "metadata": {
  "kernelspec": {
   "display_name": "Python 3.10.2 64-bit",
   "language": "python",
   "name": "python3"
  },
  "language_info": {
   "codemirror_mode": {
    "name": "ipython",
    "version": 3
   },
   "file_extension": ".py",
   "mimetype": "text/x-python",
   "name": "python",
   "nbconvert_exporter": "python",
   "pygments_lexer": "ipython3",
   "version": "3.10.2"
  },
  "orig_nbformat": 4,
  "vscode": {
   "interpreter": {
    "hash": "e5d8c4730e4c3eae841293eccf2dd3fe40ecf8e4dc1b22f8858280b707d3ac24"
   }
  }
 },
 "nbformat": 4,
 "nbformat_minor": 2
}
