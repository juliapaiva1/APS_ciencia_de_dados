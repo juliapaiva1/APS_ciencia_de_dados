{
 "cells": [
  {
   "cell_type": "markdown",
   "metadata": {},
   "source": [
    "Para o texto"
   ]
  },
  {
   "cell_type": "code",
   "execution_count": null,
   "metadata": {},
   "outputs": [],
   "source": [
    "# APS3\n",
    "\n",
    "import pandas as pd\n",
    "import numpy as np\n",
    "import matplotlib.pyplot as plt\n",
    "plt.style.use('default')\n",
    "import seaborn as sns\n",
    "\n",
    "# ----------------------------------- #\n",
    "\n"
   ]
  },
  {
   "cell_type": "markdown",
   "metadata": {},
   "source": [
    "Review da APS2\n",
    "\n",
    "Feedback: \n",
    "- Que país é AdS? \n",
    "- No texto, existe um raciocínio tendendo ao circular: \"a correlaçao mostra que nossa hipótese não se aplica, mas mesmo assim nem tanto\". \n",
    "- De fato, há uma correlação muito baixa entre os fenômenos que vocês observaram para os três países, mas talvez isso esteja ligado ao fato de que há poucos adolescentes fora da escola nos três casos (o índice chega perto de zero). De qualquer maneira, de fato, parece que o índice de desemprego não está diretamente ligado à falta de presença na escola, o que é um dado bastante importante - só porque um país tem escola, não significa que ele necessariamente tem emprego, o que significa que a taxa de empregos está ligada a outras questões que não são necessariamente a escolaridade. \n",
    "- Faltaram as correções do APS anterior. \n",
    "- Os anos no gráfico estão estranhos - por que eles começam só na metade do gráfico?\n",
    "- No arquivo entregue não está descrito qual é o indicador que está sendo comparado com \"Adolescents out of school\". O título do gráfico mostra a comparação entre adolescentes fora da escola e porcentagem de trabalhadores, mas não é claro o que significa \"porcentagem de trabalhadores\"."
   ]
  }
 ],
 "metadata": {
  "language_info": {
   "name": "python"
  },
  "orig_nbformat": 4
 },
 "nbformat": 4,
 "nbformat_minor": 2
}
