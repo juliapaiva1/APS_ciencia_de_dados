{
 "cells": [
  {
   "cell_type": "markdown",
   "metadata": {},
   "source": [
    "**Análize**\n",
    "\n",
    "Os blocos de interesse escolhidos para essa análise são o BRICS, que foi criado para promover paz e cooperação entre paises emergentes, e o Mercosul, que foi criado para estabelecer uma zona de livre comércio entre países vizinhos. \n",
    "\n",
    "Para analizarmos esses países integrantes, decidimos olhar a sua ____ e ____ atual, comparada ao mesmo valor de quando bloco foi formado, para verificar se houve uma evolução. Adicionalmente olhamos esses dados do país em tods os anos comparada a uma media mundial, para remover a possibilidade de um pais ser considerado \"avançado\" sendo que o mundo como um todo avançou.\n",
    "\n",
    "As duas teorias atuas que nós acreditamos são: os países se beneficiaram por se juntar ao grupo e portanto foram considerados, em maior parte, \"avançado\" no teste; Por outro lado, os integrantes podem não ter sofrido diferença significante para ser considerado uma opção benéfica, e que os blocos não tem impacto.\n",
    "\n",
    "A partir de nossos dados e pesquisas, é possivel dizer que \n"
   ]
  },
  {
   "cell_type": "code",
   "execution_count": 2,
   "metadata": {},
   "outputs": [],
   "source": [
    "# APS3\n",
    "\n",
    "import pandas as pd\n",
    "import numpy as np\n",
    "import matplotlib.pyplot as plt\n",
    "plt.style.use('default')\n",
    "import seaborn as sns\n",
    "\n",
    "# ----------------------------------- #\n",
    "\n"
   ]
  },
  {
   "cell_type": "markdown",
   "metadata": {},
   "source": [
    "Review da APS2\n",
    "\n",
    "Feedback: \n",
    "- Que país é AdS? \n",
    "- No texto, existe um raciocínio tendendo ao circular: \"a correlaçao mostra que nossa hipótese não se aplica, mas mesmo assim nem tanto\". \n",
    "- De fato, há uma correlação muito baixa entre os fenômenos que vocês observaram para os três países, mas talvez isso esteja ligado ao fato de que há poucos adolescentes fora da escola nos três casos (o índice chega perto de zero). De qualquer maneira, de fato, parece que o índice de desemprego não está diretamente ligado à falta de presença na escola, o que é um dado bastante importante - só porque um país tem escola, não significa que ele necessariamente tem emprego, o que significa que a taxa de empregos está ligada a outras questões que não são necessariamente a escolaridade. \n",
    "- Faltaram as correções do APS anterior. \n",
    "- Os anos no gráfico estão estranhos - por que eles começam só na metade do gráfico?\n",
    "- No arquivo entregue não está descrito qual é o indicador que está sendo comparado com \"Adolescents out of school\". O título do gráfico mostra a comparação entre adolescentes fora da escola e porcentagem de trabalhadores, mas não é claro o que significa \"porcentagem de trabalhadores\"."
   ]
  }
 ],
 "metadata": {
  "kernelspec": {
   "display_name": "Python 3.10.4 64-bit",
   "language": "python",
   "name": "python3"
  },
  "language_info": {
   "codemirror_mode": {
    "name": "ipython",
    "version": 3
   },
   "file_extension": ".py",
   "mimetype": "text/x-python",
   "name": "python",
   "nbconvert_exporter": "python",
   "pygments_lexer": "ipython3",
   "version": "3.10.4"
  },
  "orig_nbformat": 4,
  "vscode": {
   "interpreter": {
    "hash": "e913b7897ac30ba1cf0615ffc95e0dcac655edcf15ece0252fa093eec079069f"
   }
  }
 },
 "nbformat": 4,
 "nbformat_minor": 2
}
